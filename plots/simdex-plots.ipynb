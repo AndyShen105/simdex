{
 "cells": [
  {
   "cell_type": "code",
   "execution_count": null,
   "metadata": {
    "collapsed": false,
    "deletable": true,
    "editable": true
   },
   "outputs": [],
   "source": [
    "%matplotlib inline\n",
    "%load_ext autoreload\n",
    "%autoreload 2\n",
    "import pandas as pd\n",
    "from plot_utils import *"
   ]
  },
  {
   "cell_type": "code",
   "execution_count": null,
   "metadata": {
    "collapsed": false,
    "deletable": true,
    "editable": true
   },
   "outputs": [],
   "source": [
    "import matplotlib.pyplot as plt\n",
    "\n",
    "plt.rcParams['figure.figsize'] = (10, 6.5)\n",
    "plt.rcParams['font.size'] = 20\n",
    "plt.rcParams['axes.titlesize'] = 23\n",
    "plt.rcParams['axes.labelsize'] = 18\n",
    "plt.rcParams['xtick.labelsize'] = 15\n",
    "plt.rcParams['ytick.labelsize'] = 15\n",
    "plt.rcParams['legend.fontsize'] = 15\n",
    "plt.rcParams['lines.markersize'] = 10\n",
    "plt.rcParams['lines.linewidth'] = 2\n",
    "\n",
    "sns.set_style('ticks')\n",
    "sns.set_palette('Paired', 10)"
   ]
  },
  {
   "cell_type": "code",
   "execution_count": null,
   "metadata": {
    "collapsed": false,
    "deletable": true,
    "editable": true
   },
   "outputs": [],
   "source": [
    "simdex_netflix_df = pd.read_csv('timing-results/netflix-simdex-timing.csv')\n",
    "lemp_netflix_df = pd.read_csv('timing-results/netflix-lemp-timing.csv')\n",
    "blocked_mm_netflix_df = pd.read_csv('timing-results/netflix-blocked_mm-timing.csv')"
   ]
  },
  {
   "cell_type": "code",
   "execution_count": null,
   "metadata": {
    "collapsed": true
   },
   "outputs": [],
   "source": []
  },
  {
   "cell_type": "code",
   "execution_count": null,
   "metadata": {
    "collapsed": false,
    "scrolled": false
   },
   "outputs": [],
   "source": [
    "runtime_vs_reg(simdex_netflix_df, blocked_mm_netflix_df,\n",
    "               ['nomad-Netflix-10', 'nomad-Netflix-25', 'nomad-Netflix-50'], NETFLIX_REGS)"
   ]
  },
  {
   "cell_type": "code",
   "execution_count": null,
   "metadata": {
    "collapsed": false
   },
   "outputs": [],
   "source": [
    "runtime_vs_reg(simdex_netflix_df, blocked_mm_netflix_df,\n",
    "               ['nomad-Netflix-100'], ['0.0005', '0.005', 'gold-standard', '0.5'], K=50)"
   ]
  },
  {
   "cell_type": "code",
   "execution_count": null,
   "metadata": {
    "collapsed": false,
    "deletable": true,
    "editable": true,
    "scrolled": false
   },
   "outputs": [],
   "source": [
    "f_u_plots(simdex_netflix_df, lemp_netflix_df, blocked_mm_netflix_df, NETFLIX_MODELS)"
   ]
  },
  {
   "cell_type": "code",
   "execution_count": null,
   "metadata": {
    "collapsed": false,
    "deletable": true,
    "editable": true,
    "scrolled": true
   },
   "outputs": [],
   "source": [
    "simdex_df.sort_values(by='comp_time').groupby(\n",
    "        ['model', 'K'], as_index=False).first().drop(['num_threads','num_latent_factors',\n",
    "                                                      'batch_size','sample_percentage','num_iters'], axis=1)"
   ]
  },
  {
   "cell_type": "code",
   "execution_count": null,
   "metadata": {
    "collapsed": false,
    "deletable": true,
    "editable": true,
    "scrolled": true
   },
   "outputs": [],
   "source": [
    "runtime_vs_num_clusters(simdex_df, NETFLIX_MODELS)"
   ]
  },
  {
   "cell_type": "code",
   "execution_count": null,
   "metadata": {
    "collapsed": false,
    "deletable": true,
    "editable": true,
    "scrolled": true
   },
   "outputs": [],
   "source": [
    "runtime_vs_num_bins(simdex_df, NETFLIX_MODELS)"
   ]
  },
  {
   "cell_type": "code",
   "execution_count": null,
   "metadata": {
    "collapsed": false,
    "deletable": true,
    "editable": true
   },
   "outputs": [],
   "source": [
    "simdex_kdd_df = pd.read_csv('timing-results/kdd-simdex-timing.csv')\n",
    "lemp_kdd_df = pd.read_csv('timing-results/kdd-lemp-timing.csv')\n",
    "blocked_mm_kdd_df = pd.read_csv('timing-results/kdd-blocked_mm-timing.csv')"
   ]
  },
  {
   "cell_type": "code",
   "execution_count": null,
   "metadata": {
    "collapsed": false,
    "deletable": true,
    "editable": true,
    "scrolled": true
   },
   "outputs": [],
   "source": [
    "f_u_plots(simdex_kdd_df, lemp_kdd_df, blocked_mm_kdd_df, models=KDD_MODELS)"
   ]
  },
  {
   "cell_type": "code",
   "execution_count": null,
   "metadata": {
    "collapsed": true,
    "deletable": true,
    "editable": true
   },
   "outputs": [],
   "source": [
    "simdex_r2_df = pd.read_csv('timing-results/r2-simdex-timing.csv')\n",
    "lemp_r2_df = pd.read_csv('timing-results/r2-lemp-timing.csv')\n",
    "blocked_mm_r2_df = pd.read_csv('timing-results/r2-blocked_mm-timing.csv')"
   ]
  },
  {
   "cell_type": "code",
   "execution_count": null,
   "metadata": {
    "collapsed": false,
    "scrolled": true
   },
   "outputs": [],
   "source": [
    "f_u_plots(simdex_r2_df, lemp_r2_df, blocked_mm_r2_df, models=R2_MODELS)"
   ]
  },
  {
   "cell_type": "code",
   "execution_count": null,
   "metadata": {
    "collapsed": true
   },
   "outputs": [],
   "source": [
    "def plot_all_cdfs(csv_dir='items-visited'):\n",
    "    cdf(simdex_df, blocked_mm_df, ['lemp-paper-Netflix-50'], 1, column='theta_uc',\n",
    "        num_clusters_to_plot=set([256, 2048, 8192]), csv_dir=csv_dir, title='lemp-paper-Netflix-50 Theta UC')\n",
    "    cdf(simdex_df, blocked_mm_df, ['lemp-paper-Netflix-50'], 1, column='num_items_visited',\n",
    "            num_clusters_to_plot=set([256, 2048, 8192]), csv_dir=csv_dir, title='lemp-paper-Netflix-50 # Items Visited')\n",
    "\n",
    "    cdf(simdex_df, blocked_mm_df, ['lemp-paper-Netflix-noav-50'], 1, column='theta_uc',\n",
    "                num_clusters_to_plot=set([256, 2048, 8192]), csv_dir=csv_dir, title='lemp-paper-Netflix-noav-50 Theta UC')\n",
    "    cdf(simdex_df, blocked_mm_df, ['lemp-paper-Netflix-noav-50'], 1, column='num_items_visited',\n",
    "                num_clusters_to_plot=set([256, 2048, 8192]), csv_dir=csv_dir, title='lemp-paper-Netflix-noav-50 # Items Visited')\n",
    "\n",
    "    cdf(simdex_df, blocked_mm_df, ['nomad-Netflix-50-reg-0.05'], 1, column='theta_uc',\n",
    "                num_clusters_to_plot=set([256, 2048, 8192]), csv_dir=csv_dir, title='nomad-Netflix-50-reg-0.05 Theta UC')\n",
    "    cdf(simdex_df, blocked_mm_df, ['nomad-Netflix-50-reg-0.05'], 1, column='num_items_visited',\n",
    "                num_clusters_to_plot=set([256, 2048, 8192]), csv_dir=csv_dir, title='nomad-Netflix-50-reg-0.05 # Items Visited')\n",
    "\n"
   ]
  },
  {
   "cell_type": "code",
   "execution_count": null,
   "metadata": {
    "collapsed": false
   },
   "outputs": [],
   "source": [
    "cdf(simdex_df, blocked_mm_df, ['lemp-paper-Netflix-50', 'lemp-paper-Netflix-noav-50'], 1,\n",
    "    column='theta_uc', num_clusters_to_plot=set([256]), csv_dir='items-visited', title='F=50, Theta UC')\n",
    "cdf(simdex_df, blocked_mm_df, ['lemp-paper-Netflix-50', 'lemp-paper-Netflix-noav-50'], 1,\n",
    "    column='num_items_visited', num_clusters_to_plot=set([256]), csv_dir='items-visited', title='F=50, # items visited')"
   ]
  },
  {
   "cell_type": "code",
   "execution_count": null,
   "metadata": {
    "collapsed": false
   },
   "outputs": [],
   "source": [
    "theta_uc_cdf(simdex_df, blocked_mm_df, KDD_10_MODELS,  1024, fname='kdd-10')\n",
    "theta_uc_cdf(simdex_df, blocked_mm_df, KDD_25_MODELS,  1024, fname='kdd-25')\n",
    "theta_uc_cdf(simdex_df, blocked_mm_df, KDD_50_MODELS,  1024, fname='kdd-50')\n",
    "theta_uc_cdf(simdex_df, blocked_mm_df, KDD_100_MODELS, 1024, fname='kdd-100')"
   ]
  },
  {
   "cell_type": "code",
   "execution_count": null,
   "metadata": {
    "collapsed": true
   },
   "outputs": [],
   "source": []
  }
 ],
 "metadata": {
  "kernelspec": {
   "display_name": "Python 2",
   "language": "python",
   "name": "python2"
  },
  "language_info": {
   "codemirror_mode": {
    "name": "ipython",
    "version": 2
   },
   "file_extension": ".py",
   "mimetype": "text/x-python",
   "name": "python",
   "nbconvert_exporter": "python",
   "pygments_lexer": "ipython2",
   "version": "2.7.12"
  }
 },
 "nbformat": 4,
 "nbformat_minor": 1
}
