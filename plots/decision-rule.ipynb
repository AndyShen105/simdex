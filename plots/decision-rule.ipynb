{
 "cells": [
  {
   "cell_type": "code",
   "execution_count": 1,
   "metadata": {
    "collapsed": true
   },
   "outputs": [],
   "source": [
    "from math import ceil\n",
    "import pandas as pd\n",
    "import numpy as np\n",
    "import glob\n",
    "import re"
   ]
  },
  {
   "cell_type": "code",
   "execution_count": 2,
   "metadata": {
    "collapsed": true
   },
   "outputs": [],
   "source": [
    "simdex_netflix_df = pd.read_csv('timing-results/netflix-simdex-timing.csv')\n",
    "blocked_mm_netflix_df = pd.read_csv('timing-results/netflix-blocked_mm-timing.csv')\n",
    "\n",
    "simdex_kdd_df = pd.read_csv('timing-results/kdd-simdex-timing.csv')\n",
    "blocked_mm_kdd_df = pd.read_csv('timing-results/kdd-blocked_mm-timing.csv')\n",
    "\n",
    "simdex_r2_df = pd.read_csv('timing-results/r2-simdex-timing.csv')\n",
    "blocked_mm_r2_df = pd.read_csv('timing-results/r2-blocked_mm-timing.csv')\n",
    "\n",
    "simdex_df = pd.concat([simdex_netflix_df, simdex_kdd_df, simdex_r2_df])\n",
    "blocked_mm_df = pd.concat([blocked_mm_netflix_df, blocked_mm_kdd_df, blocked_mm_r2_df])\n"
   ]
  },
  {
   "cell_type": "code",
   "execution_count": 3,
   "metadata": {
    "collapsed": true
   },
   "outputs": [],
   "source": [
    "# Return stats DataFrame, also saved as a CSV in decision-rule-K-<K>.csv\n",
    "def generate_decision_rule_table(stats_dir, K=1):\n",
    "    if stats_dir[-1] != '/': stats_dir += '/'\n",
    "    csv_fname = 'decision-rule-K-%d.csv' % K\n",
    "    with open(csv_fname, 'w') as csv_out:\n",
    "        print('model,avg_num_items_visited,num_users,num_items,mm_time,simdex_time', file=csv_out)\n",
    "        for model in glob.iglob('%s/*_user_stats_K-%d_*csv' % (stats_dir, K)):\n",
    "            df = pd.read_csv(model)\n",
    "            avg_num_items_visited = np.mean([ceil(v / 4096.0) * 4096 for v in df['num_items_visited']])\n",
    "            if 'Netflix' in model:\n",
    "                n = 17770\n",
    "                u = 480189\n",
    "            elif 'R2' in model:\n",
    "                u = 1823179\n",
    "                n = 136736\n",
    "            elif 'KDD' in model:\n",
    "                u = 100990\n",
    "                n = 626961\n",
    "            model = model[len(stats_dir):]\n",
    "            model = re.sub(r'_user_stats_K-%d_\\d+.csv' % K, '', model)\n",
    "            mm_time = blocked_mm_df.query('model == \"%s\" and K == %d' % (model, K))['comp_time'].min()\n",
    "            simdex_time = simdex_df.query('model == \"%s\" and K == %d' % (model, K))['comp_time'].min()\n",
    "            print('%s,%d,%d,%d,%f,%f' % (model, avg_num_items_visited, u, n, mm_time, simdex_time), file=csv_out)\n",
    "    return pd.read_csv(csv_fname)"
   ]
  },
  {
   "cell_type": "code",
   "execution_count": 4,
   "metadata": {},
   "outputs": [
    {
     "data": {
      "text/html": [
       "<div>\n",
       "<style>\n",
       "    .dataframe thead tr:only-child th {\n",
       "        text-align: right;\n",
       "    }\n",
       "\n",
       "    .dataframe thead th {\n",
       "        text-align: left;\n",
       "    }\n",
       "\n",
       "    .dataframe tbody tr th {\n",
       "        vertical-align: top;\n",
       "    }\n",
       "</style>\n",
       "<table border=\"1\" class=\"dataframe\">\n",
       "  <thead>\n",
       "    <tr style=\"text-align: right;\">\n",
       "      <th></th>\n",
       "      <th>model</th>\n",
       "      <th>avg_num_items_visited</th>\n",
       "      <th>num_users</th>\n",
       "      <th>num_items</th>\n",
       "      <th>mm_time</th>\n",
       "      <th>simdex_time</th>\n",
       "    </tr>\n",
       "  </thead>\n",
       "  <tbody>\n",
       "    <tr>\n",
       "      <th>0</th>\n",
       "      <td>lemp-paper-Netflix-50</td>\n",
       "      <td>8379</td>\n",
       "      <td>480189</td>\n",
       "      <td>17770</td>\n",
       "      <td>40.8598</td>\n",
       "      <td>2.716780e+01</td>\n",
       "    </tr>\n",
       "    <tr>\n",
       "      <th>1</th>\n",
       "      <td>nomad-KDD-100-reg-1</td>\n",
       "      <td>408039</td>\n",
       "      <td>100990</td>\n",
       "      <td>626961</td>\n",
       "      <td>4646.5300</td>\n",
       "      <td>9.999999e+06</td>\n",
       "    </tr>\n",
       "    <tr>\n",
       "      <th>2</th>\n",
       "      <td>nomad-Netflix-10-reg-0.05</td>\n",
       "      <td>5623</td>\n",
       "      <td>480189</td>\n",
       "      <td>17770</td>\n",
       "      <td>25.0189</td>\n",
       "      <td>9.190010e+00</td>\n",
       "    </tr>\n",
       "    <tr>\n",
       "      <th>3</th>\n",
       "      <td>lemp-paper-Netflix-noav-10</td>\n",
       "      <td>5358</td>\n",
       "      <td>480189</td>\n",
       "      <td>17770</td>\n",
       "      <td>28.2434</td>\n",
       "      <td>8.823940e+00</td>\n",
       "    </tr>\n",
       "    <tr>\n",
       "      <th>4</th>\n",
       "      <td>nomad-Netflix-50-reg-0.05</td>\n",
       "      <td>13832</td>\n",
       "      <td>480189</td>\n",
       "      <td>17770</td>\n",
       "      <td>40.8713</td>\n",
       "      <td>4.456430e+01</td>\n",
       "    </tr>\n",
       "    <tr>\n",
       "      <th>5</th>\n",
       "      <td>nomad-R2-100-reg-0.001</td>\n",
       "      <td>4096</td>\n",
       "      <td>1823179</td>\n",
       "      <td>136736</td>\n",
       "      <td>1623.9700</td>\n",
       "      <td>5.948740e+01</td>\n",
       "    </tr>\n",
       "    <tr>\n",
       "      <th>6</th>\n",
       "      <td>nomad-Netflix-100-reg-0.05</td>\n",
       "      <td>13627</td>\n",
       "      <td>480189</td>\n",
       "      <td>17770</td>\n",
       "      <td>56.6688</td>\n",
       "      <td>7.685720e+01</td>\n",
       "    </tr>\n",
       "    <tr>\n",
       "      <th>7</th>\n",
       "      <td>nomad-KDD-50-reg-1</td>\n",
       "      <td>388984</td>\n",
       "      <td>100990</td>\n",
       "      <td>626961</td>\n",
       "      <td>3416.5800</td>\n",
       "      <td>2.448710e+04</td>\n",
       "    </tr>\n",
       "    <tr>\n",
       "      <th>8</th>\n",
       "      <td>nomad-Netflix-25-reg-0.05</td>\n",
       "      <td>11144</td>\n",
       "      <td>480189</td>\n",
       "      <td>17770</td>\n",
       "      <td>27.0116</td>\n",
       "      <td>2.467980e+01</td>\n",
       "    </tr>\n",
       "    <tr>\n",
       "      <th>9</th>\n",
       "      <td>lemp-paper-Netflix-noav-50</td>\n",
       "      <td>11502</td>\n",
       "      <td>480189</td>\n",
       "      <td>17770</td>\n",
       "      <td>40.8502</td>\n",
       "      <td>4.533430e+01</td>\n",
       "    </tr>\n",
       "    <tr>\n",
       "      <th>10</th>\n",
       "      <td>nomad-R2-50-reg-0.001</td>\n",
       "      <td>9829</td>\n",
       "      <td>1823179</td>\n",
       "      <td>136736</td>\n",
       "      <td>1150.8900</td>\n",
       "      <td>2.349580e+02</td>\n",
       "    </tr>\n",
       "    <tr>\n",
       "      <th>11</th>\n",
       "      <td>nomad-R2-25-reg-0.001</td>\n",
       "      <td>13973</td>\n",
       "      <td>1823179</td>\n",
       "      <td>136736</td>\n",
       "      <td>726.2000</td>\n",
       "      <td>3.320340e+01</td>\n",
       "    </tr>\n",
       "    <tr>\n",
       "      <th>12</th>\n",
       "      <td>nomad-R2-10-reg-0.001</td>\n",
       "      <td>9940</td>\n",
       "      <td>1823179</td>\n",
       "      <td>136736</td>\n",
       "      <td>613.2850</td>\n",
       "      <td>8.486560e+01</td>\n",
       "    </tr>\n",
       "    <tr>\n",
       "      <th>13</th>\n",
       "      <td>lemp-paper-Netflix-noav-100</td>\n",
       "      <td>15616</td>\n",
       "      <td>480189</td>\n",
       "      <td>17770</td>\n",
       "      <td>56.8851</td>\n",
       "      <td>8.553220e+01</td>\n",
       "    </tr>\n",
       "    <tr>\n",
       "      <th>14</th>\n",
       "      <td>nomad-KDD-10-reg-1</td>\n",
       "      <td>77221</td>\n",
       "      <td>100990</td>\n",
       "      <td>626961</td>\n",
       "      <td>1790.9800</td>\n",
       "      <td>5.189450e+02</td>\n",
       "    </tr>\n",
       "    <tr>\n",
       "      <th>15</th>\n",
       "      <td>lemp-paper-KDD-50</td>\n",
       "      <td>154009</td>\n",
       "      <td>100990</td>\n",
       "      <td>626961</td>\n",
       "      <td>3959.3600</td>\n",
       "      <td>1.016030e+04</td>\n",
       "    </tr>\n",
       "    <tr>\n",
       "      <th>16</th>\n",
       "      <td>nomad-KDD-25-reg-0.001</td>\n",
       "      <td>254726</td>\n",
       "      <td>100990</td>\n",
       "      <td>626961</td>\n",
       "      <td>2023.1600</td>\n",
       "      <td>6.787340e+03</td>\n",
       "    </tr>\n",
       "  </tbody>\n",
       "</table>\n",
       "</div>"
      ],
      "text/plain": [
       "                          model  avg_num_items_visited  num_users  num_items  \\\n",
       "0         lemp-paper-Netflix-50                   8379     480189      17770   \n",
       "1           nomad-KDD-100-reg-1                 408039     100990     626961   \n",
       "2     nomad-Netflix-10-reg-0.05                   5623     480189      17770   \n",
       "3    lemp-paper-Netflix-noav-10                   5358     480189      17770   \n",
       "4     nomad-Netflix-50-reg-0.05                  13832     480189      17770   \n",
       "5        nomad-R2-100-reg-0.001                   4096    1823179     136736   \n",
       "6    nomad-Netflix-100-reg-0.05                  13627     480189      17770   \n",
       "7            nomad-KDD-50-reg-1                 388984     100990     626961   \n",
       "8     nomad-Netflix-25-reg-0.05                  11144     480189      17770   \n",
       "9    lemp-paper-Netflix-noav-50                  11502     480189      17770   \n",
       "10        nomad-R2-50-reg-0.001                   9829    1823179     136736   \n",
       "11        nomad-R2-25-reg-0.001                  13973    1823179     136736   \n",
       "12        nomad-R2-10-reg-0.001                   9940    1823179     136736   \n",
       "13  lemp-paper-Netflix-noav-100                  15616     480189      17770   \n",
       "14           nomad-KDD-10-reg-1                  77221     100990     626961   \n",
       "15            lemp-paper-KDD-50                 154009     100990     626961   \n",
       "16       nomad-KDD-25-reg-0.001                 254726     100990     626961   \n",
       "\n",
       "      mm_time   simdex_time  \n",
       "0     40.8598  2.716780e+01  \n",
       "1   4646.5300  9.999999e+06  \n",
       "2     25.0189  9.190010e+00  \n",
       "3     28.2434  8.823940e+00  \n",
       "4     40.8713  4.456430e+01  \n",
       "5   1623.9700  5.948740e+01  \n",
       "6     56.6688  7.685720e+01  \n",
       "7   3416.5800  2.448710e+04  \n",
       "8     27.0116  2.467980e+01  \n",
       "9     40.8502  4.533430e+01  \n",
       "10  1150.8900  2.349580e+02  \n",
       "11   726.2000  3.320340e+01  \n",
       "12   613.2850  8.486560e+01  \n",
       "13    56.8851  8.553220e+01  \n",
       "14  1790.9800  5.189450e+02  \n",
       "15  3959.3600  1.016030e+04  \n",
       "16  2023.1600  6.787340e+03  "
      ]
     },
     "execution_count": 4,
     "metadata": {},
     "output_type": "execute_result"
    }
   ],
   "source": [
    "data = generate_decision_rule_table('decision-rule-with-K/', 10)\n",
    "data"
   ]
  },
  {
   "cell_type": "code",
   "execution_count": 5,
   "metadata": {
    "collapsed": true
   },
   "outputs": [],
   "source": [
    "def decision_rule(data, runtime_col='simdex_time', BLOCK_SIZE=4096):\n",
    "    mm_wins = (data[\"mm_time\"]) > data[runtime_col]\n",
    "    w_hat = data[\"avg_num_items_visited\"]\n",
    "    n = data['num_items']\n",
    "    ratio = (w_hat - BLOCK_SIZE)/(n - BLOCK_SIZE)\n",
    "    models = data[\"model\"]\n",
    "    delta = data[\"mm_time\"] - data[runtime_col]\n",
    "    labeled = list(zip(ratio, mm_wins, models, delta))\n",
    "    labeled.sort(key = lambda x: x[0])\n",
    "    for r in labeled:\n",
    "        print(r)"
   ]
  },
  {
   "cell_type": "code",
   "execution_count": 6,
   "metadata": {
    "scrolled": true
   },
   "outputs": [
    {
     "name": "stdout",
     "output_type": "stream",
     "text": [
      "(0.0, True, 'nomad-R2-100-reg-0.001', 1564.4826)\n",
      "(0.043222255729794934, True, 'nomad-R2-50-reg-0.001', 915.93200000000013)\n",
      "(0.044059107358262968, True, 'nomad-R2-10-reg-0.001', 528.4194)\n",
      "(0.074464716525934865, True, 'nomad-R2-25-reg-0.001', 692.99660000000006)\n",
      "(0.092291940909755746, True, 'lemp-paper-Netflix-noav-10', 19.419460000000001)\n",
      "(0.11167178587099605, True, 'nomad-Netflix-10-reg-0.05', 15.828889999999998)\n",
      "(0.11740104195933308, True, 'nomad-KDD-10-reg-1', 1272.0349999999999)\n",
      "(0.24068297303589059, False, 'lemp-paper-KDD-50', -6200.9399999999987)\n",
      "(0.31322217346789527, True, 'lemp-paper-Netflix-50', 13.692)\n",
      "(0.40238253875237812, False, 'nomad-KDD-25-reg-0.001', -4764.1800000000003)\n",
      "(0.51543074447857251, True, 'nomad-Netflix-25-reg-0.05', 2.3318000000000012)\n",
      "(0.54161181804885183, False, 'lemp-paper-Netflix-noav-50', -4.484099999999998)\n",
      "(0.61793165453188093, False, 'nomad-KDD-50-reg-1', -21070.519999999997)\n",
      "(0.64852415852552314, False, 'nomad-KDD-100-reg-1', -9995352.4700000007)\n",
      "(0.69701623519087319, False, 'nomad-Netflix-100-reg-0.05', -20.188400000000009)\n",
      "(0.712008190726927, False, 'nomad-Netflix-50-reg-0.05', -3.6930000000000049)\n",
      "(0.84247476963580514, False, 'lemp-paper-Netflix-noav-100', -28.647100000000002)\n"
     ]
    }
   ],
   "source": [
    "decision_rule(data)"
   ]
  },
  {
   "cell_type": "code",
   "execution_count": 7,
   "metadata": {
    "collapsed": true
   },
   "outputs": [],
   "source": [
    "lemp_netflix_df = pd.read_csv('timing-results/netflix-lemp-timing.csv')\n",
    "lemp_kdd_df = pd.read_csv('timing-results/kdd-lemp-timing.csv')\n",
    "lemp_r2_df = pd.read_csv('timing-results/r2-lemp-timing.csv')\n",
    "\n",
    "lemp_df = pd.concat([lemp_netflix_df, lemp_kdd_df, lemp_r2_df])\n",
    "lemp_decision_rule_df = pd.read_csv('lemp-decision-rule-stats.csv')"
   ]
  },
  {
   "cell_type": "code",
   "execution_count": 8,
   "metadata": {
    "collapsed": true
   },
   "outputs": [],
   "source": [
    "# Return stats DataFrame, also saved as a CSV in lemp-decision-rule-K-<K>.csv\n",
    "def generate_lemp_decision_rule_table(lemp_decision_rule_df):\n",
    "    csv_fname = 'lemp-decision-rule.csv'\n",
    "    with open(csv_fname, 'w') as csv_out:\n",
    "        print('model,K,avg_num_items_visited,num_users,num_items,mm_time,lemp_time', file=csv_out)\n",
    "        for _, row in lemp_decision_rule_df.iterrows():\n",
    "            model = row['model']\n",
    "            K = row['K']\n",
    "            avg_num_items_visited = row['num_comparisons'] / row['num_users']\n",
    "            num_users = 480189 if 'Netflix' in model else 1823179 if 'R2' in model else 100990\n",
    "            num_items = row['num_items']\n",
    "            mm_time = blocked_mm_df.query('model == \"%s\" and K == %d' % (model, K))['comp_time'].min()\n",
    "            lemp_time = lemp_df.query('model == \"%s\" and K == %d' % (model, K))['comp_time'].min()\n",
    "            print('%s,%d,%d,%d,%d,%f,%f' %\n",
    "                  (model, K, avg_num_items_visited, num_users, num_items, mm_time, lemp_time), file=csv_out)\n",
    "    return pd.read_csv(csv_fname).sort_values(by=['model', 'K'])"
   ]
  },
  {
   "cell_type": "code",
   "execution_count": 9,
   "metadata": {
    "collapsed": true
   },
   "outputs": [],
   "source": [
    "lemp_vs_mm_all = generate_lemp_decision_rule_table(lemp_decision_rule_df)\n",
    "lemp_vs_mm_K_1 = lemp_vs_mm_all.query('K == 1')\n",
    "lemp_vs_mm_K_5 = lemp_vs_mm_all.query('K == 5')\n",
    "lemp_vs_mm_K_10 = lemp_vs_mm_all.query('K == 10')\n",
    "lemp_vs_mm_K_50 = lemp_vs_mm_all.query('K == 50')"
   ]
  },
  {
   "cell_type": "code",
   "execution_count": 17,
   "metadata": {
    "scrolled": false
   },
   "outputs": [
    {
     "name": "stdout",
     "output_type": "stream",
     "text": [
      "Model, K, w / w_hat\n",
      "lemp-paper-KDD-50 1 575627.044311 2634.42\n",
      "lemp-paper-KDD-50 10 624939.939922 10988.812\n",
      "lemp-paper-KDD-50 5 624924.470949 4159.306\n",
      "lemp-paper-KDD-50 50 624945.500443 18298.082\n",
      "lemp-paper-Netflix-50 1 2411.16605128 3461.175\n",
      "lemp-paper-Netflix-50 10 3585.07227779 5694.995833333333\n",
      "lemp-paper-Netflix-50 5 3159.59735438 5029.179166666667\n",
      "lemp-paper-Netflix-50 50 6019.27348606 8402.989583333334\n",
      "lemp-paper-Netflix-noav-10 1 1757.52071372 1814.3270833333333\n",
      "lemp-paper-Netflix-noav-10 10 2759.82596019 2753.0916666666667\n",
      "lemp-paper-Netflix-noav-10 5 2335.91705766 2350.2395833333335\n",
      "lemp-paper-Netflix-noav-10 50 4387.39504029 4585.814583333334\n",
      "lemp-paper-Netflix-noav-100 1 8302.66625016 10001.010416666666\n",
      "lemp-paper-Netflix-noav-100 10 10066.7733726 12031.960416666667\n",
      "lemp-paper-Netflix-noav-100 5 9321.96957656 11473.489583333334\n",
      "lemp-paper-Netflix-noav-100 50 11941.3990137 13405.375\n",
      "lemp-paper-Netflix-noav-50 1 4466.08065991 6497.977083333333\n",
      "lemp-paper-Netflix-noav-50 10 6882.76413454 8530.372916666667\n",
      "lemp-paper-Netflix-noav-50 5 6274.43618658 7792.597916666667\n",
      "lemp-paper-Netflix-noav-50 50 9286.1998359 10521.795833333334\n",
      "nomad-KDD-10-reg-1 1 9749.10940968 11344.647\n",
      "nomad-KDD-10-reg-1 10 26311.1072518 25363.495\n",
      "nomad-KDD-10-reg-1 5 21785.2304628 21077.419\n",
      "nomad-KDD-10-reg-1 50 46191.4022498 47041.881\n",
      "nomad-KDD-100-reg-1 1 57863.0187794 49122.919\n",
      "nomad-KDD-100-reg-1 10 113351.728414 223571.648\n",
      "nomad-KDD-100-reg-1 5 94967.4228544 201120.509\n",
      "nomad-KDD-100-reg-1 50 171864.955843 148566.759\n",
      "nomad-KDD-25-reg-0.001 1 31155.6882846 44797.551\n",
      "nomad-KDD-25-reg-0.001 10 71680.72124 75010.056\n",
      "nomad-KDD-25-reg-0.001 5 36457.2147704 57957.591\n",
      "nomad-KDD-25-reg-0.001 50 75191.4231541 124774.98\n",
      "nomad-KDD-50-reg-1 1 23149.265679 15540.617\n",
      "nomad-KDD-50-reg-1 10 53331.501004 58373.426\n",
      "nomad-KDD-50-reg-1 5 45859.041384 39707.746\n",
      "nomad-KDD-50-reg-1 50 109813.004584 84282.74\n",
      "nomad-Netflix-100-reg-0.05 1 4947.66570871 7165.572916666667\n",
      "nomad-Netflix-100-reg-0.05 10 6902.38135401 8976.702083333334\n",
      "nomad-Netflix-100-reg-0.05 5 5833.64298641 8290.289583333333\n",
      "nomad-Netflix-100-reg-0.05 50 8211.47187462 11229.525\n",
      "nomad-Netflix-50-reg-0.05 1 5244.12676259 7839.3\n",
      "nomad-Netflix-50-reg-0.05 10 7946.57606068 9918.002083333333\n",
      "nomad-Netflix-50-reg-0.05 5 6532.01786172 8852.53125\n",
      "nomad-Netflix-50-reg-0.05 50 10607.9174179 11909.697916666666\n",
      "nomad-R2-10-reg-0.001 1 3433.51704248 3454.9478880965444\n",
      "nomad-R2-10-reg-0.001 10 5335.84691081 6277.737246297312\n",
      "nomad-R2-10-reg-0.001 5 4643.71266727 4204.170597915524\n",
      "nomad-R2-10-reg-0.001 50 7791.43481633 7493.656061437191\n",
      "nomad-R2-100-reg-0 1 3001.86996395 3481.2287438288536\n",
      "nomad-R2-100-reg-0 10 3794.35734451 4612.125617114646\n",
      "nomad-R2-100-reg-0 5 3545.18862218 4068.5540318156886\n",
      "nomad-R2-100-reg-0 50 5305.8619022 5679.762479429512\n",
      "nomad-R2-25-reg-0.001 1 5474.66198766 5611.952276467361\n",
      "nomad-R2-25-reg-0.001 10 7564.79174124 7888.097641250685\n",
      "nomad-R2-25-reg-0.001 5 6684.57750939 7136.626988480527\n",
      "nomad-R2-25-reg-0.001 50 10720.3846929 11559.839824465167\n",
      "nomad-R2-50-reg-0.000001 1 5104.49436122 4758.582007679649\n",
      "nomad-R2-50-reg-0.000001 10 6641.54208281 7659.996160175535\n",
      "nomad-R2-50-reg-0.000001 5 6429.49521139 6677.370268787712\n",
      "nomad-R2-50-reg-0.000001 50 9263.19482892 9172.608886450906\n"
     ]
    }
   ],
   "source": [
    "print('Model, K, w / w_hat')\n",
    "for _, row in lemp_decision_rule_df.iterrows():\n",
    "    model, K = row['model'], row['K']\n",
    "    w_hat = row['num_comparisons'] / row['num_users']\n",
    "    actual_row = lemp_df.query('model == \"%s\" and K == %d' % (model, K))\n",
    "    actual_w = actual_row['num_comparisons'] / actual_row['num_users']\n",
    "    actual_w = actual_w.values[0]\n",
    "    print(model, K, actual_w, w_hat)"
   ]
  },
  {
   "cell_type": "code",
   "execution_count": 10,
   "metadata": {},
   "outputs": [
    {
     "name": "stdout",
     "output_type": "stream",
     "text": [
      "(0.0042146629949708862, False, 'lemp-paper-KDD-50', -15008.990000000002)\n",
      "(0.018151532655637712, True, 'nomad-KDD-10-reg-1', 1682.903)\n",
      "(0.024865551610420492, False, 'nomad-KDD-50-reg-1', -381.09000000000015)\n",
      "(0.025260355721975193, True, 'nomad-R2-10-reg-0.001', 526.12789999999995)\n",
      "(0.025457816522349637, True, 'nomad-R2-100-reg-0', 1247.3710000000001)\n",
      "(0.034796981043763164, True, 'nomad-R2-50-reg-0.000001', 771.64200000000005)\n",
      "(0.041035279663000232, True, 'nomad-R2-25-reg-0.001', 515.81599999999992)\n",
      "(0.071679672811583439, True, 'nomad-KDD-25-reg-0.001', 468.50999999999999)\n",
      "(0.078600104646529945, False, 'nomad-KDD-100-reg-1', -2541.3400000000001)\n",
      "(0.10208216094541361, True, 'lemp-paper-Netflix-noav-10', 13.022839999999999)\n",
      "(0.1947664603263928, False, 'lemp-paper-Netflix-50', -3.306200000000004)\n",
      "(0.36561620709060216, False, 'lemp-paper-Netflix-noav-50', -41.0)\n",
      "(0.40320765334833991, False, 'nomad-Netflix-100-reg-0.05', -104.7833)\n",
      "(0.44113674732695557, False, 'nomad-Netflix-50-reg-0.05', -52.609900000000003)\n",
      "(0.56280247608328648, False, 'lemp-paper-Netflix-noav-100', -217.11590000000001)\n"
     ]
    }
   ],
   "source": [
    "decision_rule(lemp_vs_mm_K_1, runtime_col='lemp_time', BLOCK_SIZE=0)"
   ]
  },
  {
   "cell_type": "code",
   "execution_count": 11,
   "metadata": {},
   "outputs": [
    {
     "name": "stdout",
     "output_type": "stream",
     "text": [
      "(0.0066548152604722537, False, 'lemp-paper-KDD-50', -19834.079999999998)\n",
      "(0.029750760589749591, True, 'nomad-R2-100-reg-0', 1173.9399999999998)\n",
      "(0.030745377954598644, True, 'nomad-R2-10-reg-0.001', 537.40020000000004)\n",
      "(0.03372530445899824, True, 'nomad-KDD-10-reg-1', 1667.3299999999999)\n",
      "(0.048831324596302364, True, 'nomad-R2-50-reg-0.000001', 744.50099999999998)\n",
      "(0.052188158202667916, True, 'nomad-R2-25-reg-0.001', 504.22700000000009)\n",
      "(0.063535164594270679, False, 'nomad-KDD-50-reg-1', -2474.27)\n",
      "(0.092736986787975567, False, 'nomad-KDD-25-reg-0.001', -216.27999999999997)\n",
      "(0.13224535734383794, True, 'lemp-paper-Netflix-noav-10', 13.575200000000001)\n",
      "(0.28300506471581316, False, 'lemp-paper-Netflix-50', -22.191199999999995)\n",
      "(0.321812081073859, False, 'nomad-KDD-100-reg-1', -4060.2000000000007)\n",
      "(0.43849184018007881, False, 'lemp-paper-Netflix-noav-50', -58.918000000000006)\n",
      "(0.46651660101294318, False, 'nomad-Netflix-100-reg-0.05', -135.2886)\n",
      "(0.49814293753517164, False, 'nomad-Netflix-50-reg-0.05', -70.227599999999995)\n",
      "(0.64563871693866071, False, 'lemp-paper-Netflix-noav-100', -221.5265)\n"
     ]
    }
   ],
   "source": [
    "decision_rule(lemp_vs_mm_K_5, runtime_col='lemp_time', BLOCK_SIZE=0)"
   ]
  },
  {
   "cell_type": "code",
   "execution_count": 12,
   "metadata": {},
   "outputs": [
    {
     "name": "stdout",
     "output_type": "stream",
     "text": [
      "(0.017581897110379687, False, 'lemp-paper-KDD-50', -20239.34)\n",
      "(0.033729230049145797, True, 'nomad-R2-100-reg-0', 1135.2749999999999)\n",
      "(0.040583332399941753, True, 'nomad-KDD-10-reg-1', 1470.7930000000001)\n",
      "(0.045905979405569855, True, 'nomad-R2-10-reg-0.001', 515.87819999999999)\n",
      "(0.056013047039550665, True, 'nomad-R2-50-reg-0.000001', 726.79200000000014)\n",
      "(0.057687807161245025, True, 'nomad-R2-25-reg-0.001', 487.43800000000005)\n",
      "(0.09340262832400742, False, 'nomad-KDD-50-reg-1', -2633.6999999999998)\n",
      "(0.12002348946574266, False, 'nomad-KDD-25-reg-0.001', -878.85000000000014)\n",
      "(0.15492402926280247, True, 'lemp-paper-Netflix-noav-10', 15.594600000000002)\n",
      "(0.32042768711311198, False, 'lemp-paper-Netflix-50', -31.3461)\n",
      "(0.35773592272157784, False, 'nomad-KDD-100-reg-1', -6399.170000000001)\n",
      "(0.4800225098480585, False, 'lemp-paper-Netflix-noav-50', -68.647800000000004)\n",
      "(0.5051209904333146, False, 'nomad-Netflix-100-reg-0.05', -158.39920000000001)\n",
      "(0.55813168261114232, False, 'nomad-Netflix-50-reg-0.05', -81.552700000000016)\n",
      "(0.67703995498030389, False, 'lemp-paper-Netflix-noav-100', -241.56489999999999)\n"
     ]
    }
   ],
   "source": [
    "decision_rule(lemp_vs_mm_K_10, runtime_col='lemp_time', BLOCK_SIZE=0)"
   ]
  },
  {
   "cell_type": "code",
   "execution_count": 13,
   "metadata": {},
   "outputs": [
    {
     "name": "stdout",
     "output_type": "stream",
     "text": [
      "(0.029278626986323948, False, 'lemp-paper-KDD-50', -16502.009999999998)\n",
      "(0.04153258834542476, True, 'nomad-R2-100-reg-0', 947.61199999999997)\n",
      "(0.054799028785396678, True, 'nomad-R2-10-reg-0.001', 507.45700000000005)\n",
      "(0.067078165223496369, True, 'nomad-R2-50-reg-0.000001', 589.06499999999994)\n",
      "(0.075270296866524478, True, 'nomad-KDD-10-reg-1', 1367.4250000000002)\n",
      "(0.084535162649192599, True, 'nomad-R2-25-reg-0.001', 412.77700000000004)\n",
      "(0.13485961523999099, False, 'nomad-KDD-50-reg-1', -5052.5200000000004)\n",
      "(0.19965085821355252, False, 'nomad-KDD-25-reg-0.001', -1901.3899999999999)\n",
      "(0.23772043375506632, False, 'nomad-KDD-100-reg-1', -10336.790000000001)\n",
      "(0.25801913337084975, True, 'lemp-paper-Netflix-noav-10', 12.027299999999997)\n",
      "(0.47281935846933032, False, 'lemp-paper-Netflix-50', -63.919200000000004)\n",
      "(0.59206527855936975, False, 'lemp-paper-Netflix-noav-50', -88.710599999999999)\n",
      "(0.63190770962296006, False, 'nomad-Netflix-100-reg-0.05', -205.40449999999998)\n",
      "(0.67017445132245357, False, 'nomad-Netflix-50-reg-0.05', -105.1369)\n",
      "(0.75436128306133932, False, 'lemp-paper-Netflix-noav-100', -284.8999)\n"
     ]
    }
   ],
   "source": [
    "decision_rule(lemp_vs_mm_K_50, runtime_col='lemp_time', BLOCK_SIZE=0)"
   ]
  },
  {
   "cell_type": "code",
   "execution_count": null,
   "metadata": {
    "collapsed": true
   },
   "outputs": [],
   "source": []
  }
 ],
 "metadata": {
  "kernelspec": {
   "display_name": "Python 3",
   "language": "python",
   "name": "python3"
  },
  "language_info": {
   "codemirror_mode": {
    "name": "ipython",
    "version": 3
   },
   "file_extension": ".py",
   "mimetype": "text/x-python",
   "name": "python",
   "nbconvert_exporter": "python",
   "pygments_lexer": "ipython3",
   "version": "3.6.2"
  }
 },
 "nbformat": 4,
 "nbformat_minor": 2
}
